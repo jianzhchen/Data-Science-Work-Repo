{
 "cells": [
  {
   "cell_type": "markdown",
   "metadata": {},
   "source": [
    "<h1><center>CSE391, Quiz 2, Spring 2108 </center></h1>\n",
    "\n"
   ]
  },
  {
   "cell_type": "markdown",
   "metadata": {},
   "source": [
    "1- Using Scientific libraries in Python, write a python function to slove the system of linear equations:\n",
    "\n",
    " $\\large \\begin{cases} 3x + 5y + z = 2 \\\\ 7x – 2y + 4z= 7 \\\\ -6x + 3y + 2z =3 \\end{cases}$\n",
    " \n",
    " \n",
    " 2- Let $x_{1\\times N}= [x_1, x_2, \\ldots, x_N]$ and $y_{1\\times N} = [y_1,y_2,\\ldots,y_N]$. Using Scientific libraries in Python, write a function that computes \n",
    " \n",
    " $ \\Huge \\sum_{i=1}^{N}\\sum_{j=1}^{N} x_i y_j $\n",
    " \n",
    " Try your function with the following inputs\n",
    " $x_{1\\times 3}= [1, 2,3]$ and $y_{1\\times 3} = [4,5,6]$ and print out the output.\n",
    " "
   ]
  },
  {
   "cell_type": "code",
   "execution_count": 26,
   "metadata": {},
   "outputs": [
    {
     "name": "stdout",
     "output_type": "stream",
     "text": [
      "[[ 0.06550218  0.03056769  1.65065502]]\n"
     ]
    }
   ],
   "source": [
    "import numpy as np\n",
    "\n",
    "m = np.matrix([[3,5,1],[7,-2,4],[-6,3,2]])\n",
    "n = np.matrix([2,7,3])\n",
    "\n",
    "def cal1(m,n):\n",
    "    return np.linalg.inv(m).dot(n.T).T\n",
    "\n",
    "print(cal1(m,n))"
   ]
  },
  {
   "cell_type": "code",
   "execution_count": 1,
   "metadata": {},
   "outputs": [
    {
     "name": "stdout",
     "output_type": "stream",
     "text": [
      "200\n"
     ]
    }
   ],
   "source": [
    "import numpy as np\n",
    "\n",
    "m = np.matrix([1,2,3])\n",
    "n = np.matrix([4,5,6])\n",
    "    \n",
    "def cal2(m,n):\n",
    "    return m.T.dot(n).sum()\n",
    "\n",
    "print(cal2(m,n))"
   ]
  },
  {
   "cell_type": "code",
   "execution_count": null,
   "metadata": {
    "collapsed": true
   },
   "outputs": [],
   "source": []
  }
 ],
 "metadata": {
  "kernelspec": {
   "display_name": "Python 3",
   "language": "python",
   "name": "python3"
  },
  "language_info": {
   "codemirror_mode": {
    "name": "ipython",
    "version": 3
   },
   "file_extension": ".py",
   "mimetype": "text/x-python",
   "name": "python",
   "nbconvert_exporter": "python",
   "pygments_lexer": "ipython3",
   "version": "3.6.3"
  }
 },
 "nbformat": 4,
 "nbformat_minor": 2
}
