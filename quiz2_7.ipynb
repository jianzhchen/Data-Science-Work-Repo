{
 "cells": [
  {
   "cell_type": "code",
   "execution_count": 1,
   "metadata": {},
   "outputs": [
    {
     "data": {
      "text/plain": [
       "matrix([[1],\n",
       "        [2],\n",
       "        [3]])"
      ]
     },
     "execution_count": 1,
     "metadata": {},
     "output_type": "execute_result"
    }
   ],
   "source": [
    "import numpy as np\n",
    "x=np.matrix([1,2,3]).T\n",
    "x"
   ]
  },
  {
   "cell_type": "code",
   "execution_count": 2,
   "metadata": {},
   "outputs": [
    {
     "data": {
      "text/plain": [
       "matrix([[4],\n",
       "        [5],\n",
       "        [6]])"
      ]
     },
     "execution_count": 2,
     "metadata": {},
     "output_type": "execute_result"
    }
   ],
   "source": [
    "y=np.matrix([4,5,6]).T\n",
    "y"
   ]
  },
  {
   "cell_type": "code",
   "execution_count": 3,
   "metadata": {},
   "outputs": [
    {
     "data": {
      "text/plain": [
       "matrix([[ 2,  1,  4],\n",
       "        [ 5, -1,  3],\n",
       "        [ 1,  7,  2]])"
      ]
     },
     "execution_count": 3,
     "metadata": {},
     "output_type": "execute_result"
    }
   ],
   "source": [
    "S=np.matrix([[2,1,4],[5,-1,3],[1,7,2]])\n",
    "S"
   ]
  },
  {
   "cell_type": "code",
   "execution_count": 4,
   "metadata": {},
   "outputs": [
    {
     "data": {
      "text/plain": [
       "matrix([[  4.00000000e-01,   1.00000000e-01,   1.40000000e-01],\n",
       "        [  1.24000000e+01,  -1.00000000e-02,   3.00000000e-01],\n",
       "        [  1.60000000e+00,   7.50000000e+00,   2.00000000e-01]])"
      ]
     },
     "execution_count": 4,
     "metadata": {},
     "output_type": "execute_result"
    }
   ],
   "source": [
    "A=np.matrix([[0.4,0.1,0.14],[12.4,-0.01,0.3],[1.6,7.5,0.2]])\n",
    "A"
   ]
  },
  {
   "cell_type": "code",
   "execution_count": 8,
   "metadata": {
    "collapsed": true
   },
   "outputs": [],
   "source": [
    "def cal(x,y,s,a):\n",
    "    p1 = y.T.dot(np.outer(x,y))\n",
    "    p2 = p1.dot(a)\n",
    "    p3 = p2.dot(np.diag(np.diag(np.linalg.inv(s))))\n",
    "    p4 = p3.dot(y)\n",
    "    p5 = (1/np.linalg.det(A)**2)*p4\n",
    "    return p5"
   ]
  },
  {
   "cell_type": "code",
   "execution_count": 9,
   "metadata": {},
   "outputs": [
    {
     "data": {
      "text/plain": [
       "matrix([[-17.00165995]])"
      ]
     },
     "execution_count": 9,
     "metadata": {},
     "output_type": "execute_result"
    }
   ],
   "source": [
    "cal(x,y,S,A)"
   ]
  },
  {
   "cell_type": "code",
   "execution_count": 10,
   "metadata": {},
   "outputs": [
    {
     "name": "stdout",
     "output_type": "stream",
     "text": [
      "Overwriting /Users/jzckk/quiz2_7.py\n"
     ]
    }
   ],
   "source": [
    "%%writefile /Users/jzckk/quiz2_7.py\n",
    "import numpy as np\n",
    "x=np.matrix([1,2,3]).T\n",
    "y=np.matrix([4,5,6]).T\n",
    "S=np.matrix([[2,1,4],[5,-1,3],[1,7,2]])\n",
    "A=np.matrix([[0.4,0.1,0.14],[12.4,-0.01,0.3],[1.6,7.5,0.2]])\n",
    "\n",
    "def cal(x,y,s,a):\n",
    "    p1 = y.T.dot(np.outer(x,y))\n",
    "    p2 = p1.dot(a)\n",
    "    p3 = p2.dot(np.diag(np.diag(np.linalg.inv(s))))\n",
    "    p4 = p3.dot(y)\n",
    "    p5 = (1/np.linalg.det(A)**2)*p4\n",
    "    return p5"
   ]
  },
  {
   "cell_type": "code",
   "execution_count": null,
   "metadata": {
    "collapsed": true
   },
   "outputs": [],
   "source": []
  }
 ],
 "metadata": {
  "kernelspec": {
   "display_name": "Python 3",
   "language": "python",
   "name": "python3"
  },
  "language_info": {
   "codemirror_mode": {
    "name": "ipython",
    "version": 3
   },
   "file_extension": ".py",
   "mimetype": "text/x-python",
   "name": "python",
   "nbconvert_exporter": "python",
   "pygments_lexer": "ipython3",
   "version": "3.6.3"
  }
 },
 "nbformat": 4,
 "nbformat_minor": 2
}
