{
 "cells": [
  {
   "cell_type": "markdown",
   "metadata": {},
   "source": [
    "# CSE391 \n",
    "## Assignment 2\n",
    "##  Due: April 18th at 11:59 pm\n",
    "\n",
    "Data Science \n",
    "\n",
    "\n",
    "\n",
    "\n",
    "\n",
    "This dataset provides crime reports from San Francisco's neighborhoods in 2014. Please explore the data and check what is inside.\n",
    "\n",
    "Tasks:\n",
    "1.\tPredict the category of the crime based on the time and location information.     \n",
    "\n",
    "\n",
    "What to use:\n",
    "You can use any models (regressions, classification, clustering and/or their combinations). \n",
    "Please use  Python.  \n",
    "\n",
    "\n",
    "Data fields Description:\n",
    "- Dates - timestamp of the crime incident\n",
    "- Category - category of the crime incident. This is the target variable you are going to predict. ",
    "Descript - - detailed description of the crime incident\n",
    "- PdDistrict - name of the Police Department District\n",
    "- Address - the approximate street address of the crime incident \n",
    "- X - Longitude\n",
    "- Y - Latitude\n",
    "\n",
    "\n"
   ]
  },
  {
   "cell_type": "code",
   "execution_count": 1,
   "metadata": {
    "scrolled": true
   },
   "outputs": [
    {
     "name": "stderr",
     "output_type": "stream",
     "text": [
      "C:\\Anaconda3\\lib\\site-packages\\pandas\\core\\generic.py:3110: SettingWithCopyWarning: \n",
      "A value is trying to be set on a copy of a slice from a DataFrame.\n",
      "Try using .loc[row_indexer,col_indexer] = value instead\n",
      "\n",
      "See the caveats in the documentation: http://pandas.pydata.org/pandas-docs/stable/indexing.html#indexing-view-versus-copy\n",
      "  self[name] = value\n",
      "C:\\Anaconda3\\lib\\site-packages\\ipykernel_launcher.py:19: SettingWithCopyWarning: \n",
      "A value is trying to be set on a copy of a slice from a DataFrame.\n",
      "Try using .loc[row_indexer,col_indexer] = value instead\n",
      "\n",
      "See the caveats in the documentation: http://pandas.pydata.org/pandas-docs/stable/indexing.html#indexing-view-versus-copy\n",
      "C:\\Anaconda3\\lib\\site-packages\\ipykernel_launcher.py:20: SettingWithCopyWarning: \n",
      "A value is trying to be set on a copy of a slice from a DataFrame.\n",
      "Try using .loc[row_indexer,col_indexer] = value instead\n",
      "\n",
      "See the caveats in the documentation: http://pandas.pydata.org/pandas-docs/stable/indexing.html#indexing-view-versus-copy\n",
      "C:\\Anaconda3\\lib\\site-packages\\ipykernel_launcher.py:27: DataConversionWarning: A column-vector y was passed when a 1d array was expected. Please change the shape of y to (n_samples, ), for example using ravel().\n"
     ]
    },
    {
     "data": {
      "text/plain": [
       "19.173054881708065"
      ]
     },
     "execution_count": 1,
     "metadata": {},
     "output_type": "execute_result"
    }
   ],
   "source": [
    "import pandas as pd\n",
    "import numpy as np\n",
    "from sklearn.model_selection import train_test_split\n",
    "from sklearn.neighbors import KNeighborsClassifier\n",
    "from sklearn import metrics\n",
    "clf = KNeighborsClassifier()\n",
    "\n",
    "def convertTime(t):\n",
    "    (h, m, s) = t.split(':')\n",
    "    return int(h)\n",
    "\n",
    "data = pd.read_csv('data_set.csv')\n",
    "data=data.dropna()\n",
    "y=data[['Category']]\n",
    "y.Category=y.Category.astype(\"category\").cat.codes\n",
    "\n",
    "x1=data[['Dates']]\n",
    "x2=data[['PdDistrict']]\n",
    "x1['Dates'] = x1['Dates'].apply(lambda x: str(x)[-9:])\n",
    "x1['Dates'] = x1['Dates'].apply(convertTime)\n",
    "\n",
    "x2=pd.get_dummies(x2)\n",
    "x=pd.concat([x1,x2],axis=1)\n",
    "\n",
    "X_train, X_test, y_train, y_test = train_test_split(x, y, test_size=0.4, random_state=0)\n",
    "\n",
    "clf.fit(X_train, y_train)\n",
    "y_pred=clf.predict_proba(X_test)\n",
    "metrics.log_loss(y_test,y_pred,labels =np.arange(37))"
   ]
  },
  {
   "cell_type": "code",
   "execution_count": 2,
   "metadata": {},
   "outputs": [
    {
     "data": {
      "text/plain": [
       "0.17220376522702105"
      ]
     },
     "execution_count": 2,
     "metadata": {},
     "output_type": "execute_result"
    }
   ],
   "source": [
    "y_pred=clf.predict(X_test)\n",
    "metrics.accuracy_score(y_test,y_pred)"
   ]
  },
  {
   "cell_type": "code",
   "execution_count": 3,
   "metadata": {},
   "outputs": [
    {
     "name": "stdout",
     "output_type": "stream",
     "text": [
      "[ 0.00975898  0.19076054  0.          0.          0.04990204  0.01043131\n",
      "  0.          0.043118    0.00681734  0.          0.          0.          0.0048985\n",
      "  0.02107482  0.          0.          0.3673782   0.          0.\n",
      "  0.01828571  0.08427086  0.10575076  0.          0.00136245  0.          0.\n",
      "  0.          0.          0.          0.          0.00451036  0.\n",
      "  0.00848673  0.02636791  0.01635351  0.        ]\n"
     ]
    }
   ],
   "source": [
    "conf_matrix = metrics.confusion_matrix(y_test, y_pred)\n",
    "FP = conf_matrix.sum(axis=0) - np.diag(conf_matrix)  \n",
    "FN = conf_matrix.sum(axis=1) - np.diag(conf_matrix)\n",
    "TP = np.diag(conf_matrix)\n",
    "TN = conf_matrix.sum() - (FP + FN + TP)\n",
    "FPR= FP/(FP+TN)\n",
    "print(FPR)"
   ]
  },
  {
   "cell_type": "code",
   "execution_count": null,
   "metadata": {
    "collapsed": true
   },
   "outputs": [],
   "source": []
  }
 ],
 "metadata": {
  "kernelspec": {
   "display_name": "Python 3",
   "language": "python",
   "name": "python3"
  },
  "language_info": {
   "codemirror_mode": {
    "name": "ipython",
    "version": 3
   },
   "file_extension": ".py",
   "mimetype": "text/x-python",
   "name": "python",
   "nbconvert_exporter": "python",
   "pygments_lexer": "ipython3",
   "version": "3.6.3"
  }
 },
 "nbformat": 4,
 "nbformat_minor": 2
}
