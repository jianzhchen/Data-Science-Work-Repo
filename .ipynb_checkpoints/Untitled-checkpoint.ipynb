{
 "cells": [
  {
   "cell_type": "code",
   "execution_count": 3,
   "metadata": {},
   "outputs": [
    {
     "name": "stdout",
     "output_type": "stream",
     "text": [
      "10294\n"
     ]
    }
   ],
   "source": [
    "import numpy as np  \n",
    "\n",
    "def normailze(data):\n",
    "    return (data - np.mean(data,axis=0)) / data.std(0) \n",
    "\n",
    "def computeCost(X, y, theta):  \n",
    "    inner = np.power(((X * theta.T) - y), 2)\n",
    "    return np.sum(inner) / (2 * len(X))\n",
    "\n",
    "def gradientDescent(X, y, theta, alpha, iters):  \n",
    "    temp = np.matrix(np.zeros(theta.shape))\n",
    "    parameters = int(theta.ravel().shape[1])\n",
    "    cost = np.zeros(iters)\n",
    "    for i in range(iters):\n",
    "        error = (X * theta.T) - y\n",
    "        for j in range(parameters):\n",
    "            term = np.multiply(error, X[:,j])\n",
    "            temp[0,j] = theta[0,j] - ((alpha / len(X)) * np.sum(term))\n",
    "        theta = temp\n",
    "        cost[i] = computeCost(X, y, theta)\n",
    "    return theta, cost\n",
    "def train():\n",
    "    train_file='dota2Test.csv'\n",
    "    data = np.array(np.genfromtxt(train_file, delimiter=','))\n",
    "    yd=np.matrix(data[:,0]).T\n",
    "    xd=np.matrix(data[:,1:])\n",
    "    xd=np.nan_to_num(normailze(xd))\n",
    "    one = np.ones((len(xd),1))\n",
    "    xd=np.append(one, xd, axis=1)\n",
    "    theta = np.matrix(np.array([0]*117))  \n",
    "    alpha=0.01\n",
    "    iters=1000\n",
    "    print('inital cost:',computeCost(xd, yd,theta))\n",
    "    print('alpha:',alpha)\n",
    "    print('iters:',iters)\n",
    "    g, cost = gradientDescent(xd, yd, theta, alpha, iters)\n",
    "    print('Cost after Gradient Descent:',computeCost(xd, yd, g) )\n",
    "\n",
    "    result=[]\n",
    "    for i in range(10000):\n",
    "        pred=np.multiply(xd[i,1:],g[0,1:]).sum()+g[0,0]\n",
    "        true=yd[i,0]\n",
    "        if abs(true-pred)<1:\n",
    "            result.append(1)\n",
    "        else:\n",
    "            result.append(0)\n",
    "    print('self predication',np.array(result).sum()/10000)\n",
    "    np.savetxt('model.txt',g)\n",
    "    \n",
    "train()"
   ]
  },
  {
   "cell_type": "code",
   "execution_count": null,
   "metadata": {
    "collapsed": true
   },
   "outputs": [],
   "source": []
  }
 ],
 "metadata": {
  "kernelspec": {
   "display_name": "Python 3",
   "language": "python",
   "name": "python3"
  },
  "language_info": {
   "codemirror_mode": {
    "name": "ipython",
    "version": 3
   },
   "file_extension": ".py",
   "mimetype": "text/x-python",
   "name": "python",
   "nbconvert_exporter": "python",
   "pygments_lexer": "ipython3",
   "version": "3.6.3"
  }
 },
 "nbformat": 4,
 "nbformat_minor": 2
}
