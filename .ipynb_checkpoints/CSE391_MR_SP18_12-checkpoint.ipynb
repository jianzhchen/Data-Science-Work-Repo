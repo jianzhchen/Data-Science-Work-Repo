{
 "cells": [
  {
   "cell_type": "markdown",
   "metadata": {},
   "source": [
    "<h1><center>CSE391 programming for data science</center></h1>\n",
    "\n",
    "<h1><center>Lecture 12</center></h1>\n",
    "<h1><center>Feb 28th ,2018 </center></h1>\n",
    "\n"
   ]
  },
  {
   "cell_type": "markdown",
   "metadata": {},
   "source": [
    "# Information is the oil of the 21st century, and analytics is the combustion engine.\n",
    "- ~ Peter Sondergaard, SVP, Gartner Research – "
   ]
  },
  {
   "cell_type": "markdown",
   "metadata": {},
   "source": [
    "# Jupyter notebook Tips of the day"
   ]
  },
  {
   "cell_type": "markdown",
   "metadata": {},
   "source": [
    "# Colors: \n",
    "\n",
    "-Use this code: <font color=red>Text</font> Not all markdown code works within a font tag, so review your colored text carefully!"
   ]
  },
  {
   "cell_type": "markdown",
   "metadata": {},
   "source": [
    "# Indenting: \n",
    "-Use a greater than sign (>) and then a space, then type the text. Everything is indented until the next carriage return.\n",
    "> here\n"
   ]
  },
  {
   "cell_type": "markdown",
   "metadata": {},
   "source": [
    "#  Dealing with missing values"
   ]
  },
  {
   "cell_type": "markdown",
   "metadata": {},
   "source": [
    "# Two type of missing data\n",
    "- missing completly at random\n",
    "- mising not at random"
   ]
  },
  {
   "cell_type": "markdown",
   "metadata": {},
   "source": [
    "# How to deal with missing data\n",
    "- drop out \n",
    "- imputation \n",
    "     - expert gussing\n",
    "     - averaging \n",
    "     - regression\n",
    "     - Expectation maximization\n"
   ]
  },
  {
   "cell_type": "markdown",
   "metadata": {},
   "source": [
    "# 1.1 Drop the missing values."
   ]
  },
  {
   "cell_type": "code",
   "execution_count": null,
   "metadata": {
    "collapsed": true
   },
   "outputs": [],
   "source": [
    "passengers.dropna(axis=0, how='any', thresh=None, subset=None, inplace=False)\n",
    "\n"
   ]
  },
  {
   "cell_type": "markdown",
   "metadata": {},
   "source": [
    "- This will drop any rows with missing values. Clearly this isn't a good idea\n",
    "- What instead if we wanted to remove any columns with missing values? How?"
   ]
  },
  {
   "cell_type": "code",
   "execution_count": null,
   "metadata": {
    "collapsed": true
   },
   "outputs": [],
   "source": [
    "passengers.dropna(axis = 1).head(5)"
   ]
  },
  {
   "cell_type": "code",
   "execution_count": null,
   "metadata": {
    "collapsed": true
   },
   "outputs": [],
   "source": [
    "# Keep only the rows with at least 11 non-na values:\n",
    "passengers.dropna(thresh = 11)"
   ]
  },
  {
   "cell_type": "markdown",
   "metadata": {},
   "source": [
    "# 1.2 imputation ( a way to replace the missing values) \n",
    "- Filling the missing values\n",
    "    -  mean\n",
    "    - your suggestion?"
   ]
  },
  {
   "cell_type": "code",
   "execution_count": null,
   "metadata": {
    "collapsed": true
   },
   "outputs": [],
   "source": [
    " passengers[\"Age\"].fillna(value=passengers[\"Age\"].mean()).head()"
   ]
  },
  {
   "cell_type": "markdown",
   "metadata": {},
   "source": [
    "# The apply function in Pandas\n",
    "-This is one of the most powerful tools available in Pandas. Apply, allows you to either use Python's built-in functions or to create your own custom function and then run it across a set of your data."
   ]
  },
  {
   "cell_type": "markdown",
   "metadata": {},
   "source": [
    "## let's define a function to map each embarked city to a letter"
   ]
  },
  {
   "cell_type": "code",
   "execution_count": null,
   "metadata": {
    "collapsed": true
   },
   "outputs": [],
   "source": [
    "def get_full_city_name(cityCode):\n",
    "    if (cityCode == \"S\"):\n",
    "        return \"Southampton\"\n",
    "    elif (cityCode == \"C\"):\n",
    "        return \"Cherbourg\"\n",
    "    elif (cityCode == \"Q\"):\n",
    "        return \"Queenstown\""
   ]
  },
  {
   "cell_type": "code",
   "execution_count": null,
   "metadata": {
    "collapsed": true
   },
   "outputs": [],
   "source": [
    "passengers[\"Embarked\"].apply(get_full_city_name).head(10)"
   ]
  },
  {
   "cell_type": "markdown",
   "metadata": {},
   "source": [
    "# Using Lambda function\n",
    "Lambda expressions allow you to create functions on the fly. This means you can create a function when you need it and then apply that to the relevant data set."
   ]
  },
  {
   "cell_type": "code",
   "execution_count": null,
   "metadata": {
    "collapsed": true
   },
   "outputs": [],
   "source": [
    "# Updating the fares for all the passengers\n",
    "passengers[\"Fare\"].apply(lambda fare: 106 * fare).head(5)"
   ]
  },
  {
   "cell_type": "markdown",
   "metadata": {},
   "source": [
    "# Boolian Indexing in Pandas\n",
    "- selecting across multiple columns with python pandas\n"
   ]
  },
  {
   "cell_type": "code",
   "execution_count": null,
   "metadata": {
    "collapsed": true
   },
   "outputs": [],
   "source": [
    "# creat a data frame\n",
    "\n",
    "d = pd.DataFrame({'x':[1, 2, 3, 4, 5], 'y':[4, 5, 6, 7, 8]})\n",
    "d"
   ]
  },
  {
   "cell_type": "code",
   "execution_count": null,
   "metadata": {
    "collapsed": true
   },
   "outputs": [],
   "source": [
    "d[(d['x']>2) & (d['y']>7)]"
   ]
  },
  {
   "cell_type": "markdown",
   "metadata": {},
   "source": [
    "- List comprehensions and map method of DataFrames can also be used to produce more complex column selection criteria:"
   ]
  },
  {
   "cell_type": "code",
   "execution_count": 1,
   "metadata": {},
   "outputs": [
    {
     "ename": "NameError",
     "evalue": "name 'pd' is not defined",
     "output_type": "error",
     "traceback": [
      "\u001b[1;31m---------------------------------------------------------------------------\u001b[0m",
      "\u001b[1;31mNameError\u001b[0m                                 Traceback (most recent call last)",
      "\u001b[1;32m<ipython-input-1-d94c2966882f>\u001b[0m in \u001b[0;36m<module>\u001b[1;34m()\u001b[0m\n\u001b[1;32m----> 1\u001b[1;33m df2 = pd.DataFrame({'a' : ['one', 'one', 'two', 'three', 'two', 'one', 'six'],\n\u001b[0m\u001b[0;32m      2\u001b[0m                     \u001b[1;34m'b'\u001b[0m \u001b[1;33m:\u001b[0m \u001b[1;33m[\u001b[0m\u001b[1;34m'x'\u001b[0m\u001b[1;33m,\u001b[0m \u001b[1;34m'y'\u001b[0m\u001b[1;33m,\u001b[0m \u001b[1;34m'y'\u001b[0m\u001b[1;33m,\u001b[0m \u001b[1;34m'x'\u001b[0m\u001b[1;33m,\u001b[0m \u001b[1;34m'y'\u001b[0m\u001b[1;33m,\u001b[0m \u001b[1;34m'x'\u001b[0m\u001b[1;33m,\u001b[0m \u001b[1;34m'x'\u001b[0m\u001b[1;33m]\u001b[0m\u001b[1;33m,\u001b[0m\u001b[1;33m\u001b[0m\u001b[0m\n\u001b[0;32m      3\u001b[0m                     'c' : np.random.randn(7)})\n\u001b[0;32m      4\u001b[0m \u001b[1;33m\u001b[0m\u001b[0m\n\u001b[0;32m      5\u001b[0m \u001b[1;33m\u001b[0m\u001b[0m\n",
      "\u001b[1;31mNameError\u001b[0m: name 'pd' is not defined"
     ]
    }
   ],
   "source": [
    "df2 = pd.DataFrame({'a' : ['one', 'one', 'two', 'three', 'two', 'one', 'six'],\n",
    "   .....:                     'b' : ['x', 'y', 'y', 'x', 'y', 'x', 'x'],\n",
    "   .....:                     'c' : np.random.randn(7)})\n",
    "   .....: \n",
    "        \n",
    "df2"
   ]
  },
  {
   "cell_type": "code",
   "execution_count": null,
   "metadata": {
    "collapsed": true
   },
   "outputs": [],
   "source": [
    "\n",
    "criterion = df2['a'].map(lambda x: x.startswith('t'))\n",
    "print(criterion)\n",
    "\n",
    "print(df2[criterion])"
   ]
  },
  {
   "cell_type": "code",
   "execution_count": 2,
   "metadata": {},
   "outputs": [
    {
     "ename": "SyntaxError",
     "evalue": "unexpected character after line continuation character (<ipython-input-2-c0ec5be6ec23>, line 3)",
     "output_type": "error",
     "traceback": [
      "\u001b[1;36m  File \u001b[1;32m\"<ipython-input-2-c0ec5be6ec23>\"\u001b[1;36m, line \u001b[1;32m3\u001b[0m\n\u001b[1;33m    \\cle from Ayushi Asthana at geeksforgeeks\u001b[0m\n\u001b[1;37m                                             ^\u001b[0m\n\u001b[1;31mSyntaxError\u001b[0m\u001b[1;31m:\u001b[0m unexpected character after line continuation character\n"
     ]
    }
   ],
   "source": [
    "# More on array indexing and slicing \n",
    "# based on an arti\n",
    "\\cle from Ayushi Asthana at geeksforgeeks\n",
    "\n",
    "import numpy as np \n",
    "a = np.array([[1,2,3],[3,4,5],[4,5,6]]) \n",
    "print(a ) \n",
    "\n",
    "# slice items starting from index\n",
    "print('Now we will slice the array from the index a[1:]' )\n",
    "print(a[1:])\n",
    "\n",
    "# Python program for basic slicing.\n",
    "import numpy as np\n",
    " \n",
    "# Arrange elements from 0 to 19\n",
    "a = np.arange(20)\n",
    "print(\"\\n Array is:\\n \",a)\n",
    " \n",
    "# a[start:stop:step]\n",
    "print(\"\\n a[-8:17:1]  = \",a[-8:17:1]) \n",
    " \n",
    "# The : operator means all elements till the end.\n",
    "print(\"\\n a[10:]  = \",a[10:])\n",
    "\n",
    "# Advanced indexing\n",
    "\n",
    "#Purely integer indexing\n",
    "# Python program showing advanced indexing\n",
    "import numpy as np\n",
    " \n",
    "a = np.array([[1 ,2 ],[3 ,4 ],[5 ,6 ]])\n",
    "print(a[[0 ,1 ,2 ],[0 ,0 ,1]])\n",
    "\n",
    "#Boolean Indexing \n",
    "# You may wish to select numbers greater than 50\n",
    "import numpy as np\n",
    " \n",
    "a = np.array([10, 40, 80, 50, 100])\n",
    "print(a[a>50])\n",
    "\n",
    "# You may wish to square the multiples of 40 \n",
    "import numpy as np\n",
    " \n",
    "a = np.array([10, 40, 80, 50, 100])\n",
    "print(a[a%40==0]**2)"
   ]
  },
  {
   "cell_type": "code",
   "execution_count": null,
   "metadata": {
    "collapsed": true
   },
   "outputs": [],
   "source": []
  }
 ],
 "metadata": {
  "kernelspec": {
   "display_name": "Python 3",
   "language": "python",
   "name": "python3"
  },
  "language_info": {
   "codemirror_mode": {
    "name": "ipython",
    "version": 3
   },
   "file_extension": ".py",
   "mimetype": "text/x-python",
   "name": "python",
   "nbconvert_exporter": "python",
   "pygments_lexer": "ipython3",
   "version": "3.6.3"
  }
 },
 "nbformat": 4,
 "nbformat_minor": 2
}
