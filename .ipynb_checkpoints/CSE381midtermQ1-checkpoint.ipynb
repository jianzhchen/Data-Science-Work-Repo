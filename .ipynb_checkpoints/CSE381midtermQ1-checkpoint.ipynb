{
 "cells": [
  {
   "cell_type": "markdown",
   "metadata": {},
   "source": [
    "<h1><center>CSE391 programming for data science</center></h1>\n",
    "<h1><center>Midterm 1</center></h1>\n",
    "<h1><center>March 26th,2018 </center></h1>\n",
    "<h1><center>Part 1 </center></h1>"
   ]
  },
  {
   "cell_type": "markdown",
   "metadata": {},
   "source": [
    "1-  Download the file named data_set in the Assignment section on Blackboard and save it in a file. Then read data_set as a DataFram into python and show the first 10 rows of the data."
   ]
  },
  {
   "cell_type": "markdown",
   "metadata": {},
   "source": [
    "2- What is the shape of the DataFrame, i.e., the number of columns and rows?\n",
    "\n"
   ]
  },
  {
   "cell_type": "markdown",
   "metadata": {},
   "source": [
    "3- Are there any missing value in the data? if yes how many per column? write a python script to print the number of missing values per column."
   ]
  },
  {
   "cell_type": "markdown",
   "metadata": {},
   "source": [
    "4- Remove all rows in which at least there is one missing value. Name the new Dataframe as CleanData in which there is no missing values."
   ]
  },
  {
   "cell_type": "markdown",
   "metadata": {},
   "source": [
    "5- Make a scatter plot showing the distribution of data in column 6 and 7, i.e X and Y"
   ]
  },
  {
   "cell_type": "markdown",
   "metadata": {},
   "source": [
    "6- From CleanData, create a Series whose index  and data are the first and\n",
    "seventh columns of CleanData, respectively."
   ]
  },
  {
   "cell_type": "markdown",
   "metadata": {},
   "source": [
    "7- Plot the 100 first values of series. In this plot , the x  and y axes the date and the value at the date respectively . "
   ]
  },
  {
   "cell_type": "markdown",
   "metadata": {},
   "source": [
    "8- Generate a pivot table in which we make a summary in terms of both Category and PdDistrict"
   ]
  },
  {
   "cell_type": "code",
   "execution_count": 2,
   "metadata": {},
   "outputs": [
    {
     "ename": "SyntaxError",
     "evalue": "invalid syntax (<ipython-input-2-5e630a5a3418>, line 3)",
     "output_type": "error",
     "traceback": [
      "\u001b[1;36m  File \u001b[1;32m\"<ipython-input-2-5e630a5a3418>\"\u001b[1;36m, line \u001b[1;32m3\u001b[0m\n\u001b[1;33m    pd.DataFrame.from_csv(C:\\Users\\jzckk\\Jupyter_Root\\data_set.csv)\u001b[0m\n\u001b[1;37m                           ^\u001b[0m\n\u001b[1;31mSyntaxError\u001b[0m\u001b[1;31m:\u001b[0m invalid syntax\n"
     ]
    }
   ],
   "source": [
    "import panda as pd\n",
    "\n",
    "pd.DataFrame.from_csv(C:\\Users\\jzckk\\Jupyter_Root\\data_set.csv)"
   ]
  },
  {
   "cell_type": "code",
   "execution_count": null,
   "metadata": {
    "collapsed": true
   },
   "outputs": [],
   "source": []
  }
 ],
 "metadata": {
  "kernelspec": {
   "display_name": "Python 3",
   "language": "python",
   "name": "python3"
  },
  "language_info": {
   "codemirror_mode": {
    "name": "ipython",
    "version": 3
   },
   "file_extension": ".py",
   "mimetype": "text/x-python",
   "name": "python",
   "nbconvert_exporter": "python",
   "pygments_lexer": "ipython3",
   "version": "3.6.3"
  }
 },
 "nbformat": 4,
 "nbformat_minor": 2
}
