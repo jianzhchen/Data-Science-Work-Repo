{
 "cells": [
  {
   "cell_type": "markdown",
   "metadata": {},
   "source": [
    "<h1><center>CSE391 programming for data science</center></h1>\n",
    "<h1><center>Midterm </center></h1>\n",
    "<h1><center>March 26th,2018 </center></h1>\n",
    "<h1><center>Part 2 </center></h1>"
   ]
  },
  {
   "cell_type": "markdown",
   "metadata": {},
   "source": [
    "Let $V_{n\\times d}$ be a matrix whose elements are all  positive. We would like to decompose $V$ into \n",
    "two matrices $W_{n \\times k}$ and $H_{k \\times d}$ such that both $W$ and $H$ are positive and $V \\approx W\\times H$ where $\\times$ denotes the matrix multiplication operation. The aim is to write a python function that accepts as input $V$ and outputs $W$ and $H$. This can be done using an iterative algorithm that updates the elements of $W$ and $H$ until it converges. Here are the update rules:\n",
    "\n",
    "1- Update rule for $h_{ij}$\n",
    "\n",
    "\n",
    "${\\displaystyle H_{[i,j]}^{n+1}\\leftarrow H_{[i,j]}^{n}{\\frac {((W^{n})^{T}V)_{[i,j]}}{((W^{n})^{T}W^{n}H^{n})_{[i,j]}}}}$\n",
    "\n",
    "\n",
    "\n",
    "\n",
    "2-  Update rule for $w_{ij}$\n",
    "\n",
    "\n",
    "${\\displaystyle W_{[i,j]}^{n+1}\\leftarrow W_{[i,j]}^{n}{\\frac {(V(H^{n+1})^{T})_{[i,j]}}{(W^n H^{n+1}(H^{n+1})^{T})_{[i,j]}}}}$\n",
    "\n",
    "\n",
    "\n",
    "The algoirthm works as follows:\n",
    "\n",
    "1. initialize  $H$ and $V$ with random values.\n",
    "2. use the update rule 1 to compute $H$\n",
    "3. use the update rule 2 to compute $W$\n",
    "4. check if the maximum number of iteration is reached\n",
    "\n",
    "The below script is a way to implement this algoritm.Fill in the locations indicated in the script to complete the code. This script contains three functions, one main function called CSE391_DecomposeFunction which calles the two other functions.\n"
   ]
  },
  {
   "cell_type": "code",
   "execution_count": 13,
   "metadata": {
    "collapsed": true
   },
   "outputs": [],
   "source": [
    "import numpy as np\n",
    "\n",
    "\n",
    "\n",
    "def CSE391_updateH(V, W, H):\n",
    "    #Update rule for $H_{ij}$\n",
    "    # fill in here\n",
    "    H_new= (W.T.dot(V))/(W.T.dot(W).dot(H))\n",
    "    return H_new\n",
    "\n",
    "def CSE391_updateW(V, W, H):\n",
    "    # Update rule for W_{ij}\n",
    "    # fill in here\n",
    "    W_new=(V.dot(H.T))/(W.dot(H).dot(H.T))\n",
    "    return W_new\n",
    "\n",
    "\n",
    "\n",
    "\n",
    "def CSE391_DecomposeFunction(V, k, maxiter=500):\n",
    "    ''' decomposes V into W and H\n",
    "        \n",
    "    Usage:\n",
    "        W, H = CSE391_DecomposeFunction(V, r)\n",
    "    Parameters:\n",
    "        V: a (n x d)-array containing n observations in the columns\n",
    "        k: number of components to extract\n",
    "        maxiter: maximum number of iterations\n",
    "    Returns:\n",
    "        W: (n x k)-array \n",
    "        H: (k x d)-array \n",
    "    '''\n",
    "    \n",
    "    d, n = V.shape\n",
    "    # fill in here \n",
    "    # initialize W and H\n",
    "    W=np.random.rand(n,k)\n",
    "    H=np.random.rand(k,d)\n",
    "    \n",
    "    it_no = 0\n",
    "\n",
    "    while  it_no <= maxiter:\n",
    "        # fill in here\n",
    "        H=CSE391_updateH(V,W,H)\n",
    "        W=CSE391_updateW(V,W,H)\n",
    "    return W, H"
   ]
  },
  {
   "cell_type": "markdown",
   "metadata": {},
   "source": [
    "Bonus : Now your code is complete.\n",
    "Decompose the  blow matrix using the funcion \n",
    "CSE391_DecomposeFunction and print out $W$ and $H$."
   ]
  },
  {
   "cell_type": "code",
   "execution_count": 14,
   "metadata": {},
   "outputs": [
    {
     "ename": "ValueError",
     "evalue": "shapes (5,10) and (20,10) not aligned: 10 (dim 1) != 20 (dim 0)",
     "output_type": "error",
     "traceback": [
      "\u001b[1;31m---------------------------------------------------------------------------\u001b[0m",
      "\u001b[1;31mValueError\u001b[0m                                Traceback (most recent call last)",
      "\u001b[1;32m<ipython-input-14-560eb636310f>\u001b[0m in \u001b[0;36m<module>\u001b[1;34m()\u001b[0m\n\u001b[0;32m      1\u001b[0m \u001b[0mV\u001b[0m \u001b[1;33m=\u001b[0m \u001b[0mnp\u001b[0m\u001b[1;33m.\u001b[0m\u001b[0marange\u001b[0m\u001b[1;33m(\u001b[0m\u001b[1;36m0\u001b[0m\u001b[1;33m,\u001b[0m\u001b[1;36m200\u001b[0m\u001b[1;33m)\u001b[0m\u001b[1;33m.\u001b[0m\u001b[0mreshape\u001b[0m\u001b[1;33m(\u001b[0m\u001b[1;36m20\u001b[0m\u001b[1;33m,\u001b[0m\u001b[1;36m10\u001b[0m\u001b[1;33m)\u001b[0m\u001b[1;33m\u001b[0m\u001b[0m\n\u001b[1;32m----> 2\u001b[1;33m \u001b[0mCSE391_DecomposeFunction\u001b[0m\u001b[1;33m(\u001b[0m\u001b[0mV\u001b[0m\u001b[1;33m,\u001b[0m\u001b[1;36m5\u001b[0m\u001b[1;33m)\u001b[0m\u001b[1;33m\u001b[0m\u001b[0m\n\u001b[0m",
      "\u001b[1;32m<ipython-input-13-3505268ec655>\u001b[0m in \u001b[0;36mCSE391_DecomposeFunction\u001b[1;34m(V, k, maxiter)\u001b[0m\n\u001b[0;32m     42\u001b[0m     \u001b[1;32mwhile\u001b[0m  \u001b[0mit_no\u001b[0m \u001b[1;33m<=\u001b[0m \u001b[0mmaxiter\u001b[0m\u001b[1;33m:\u001b[0m\u001b[1;33m\u001b[0m\u001b[0m\n\u001b[0;32m     43\u001b[0m         \u001b[1;31m# fill in here\u001b[0m\u001b[1;33m\u001b[0m\u001b[1;33m\u001b[0m\u001b[0m\n\u001b[1;32m---> 44\u001b[1;33m         \u001b[0mH\u001b[0m\u001b[1;33m=\u001b[0m\u001b[0mCSE391_updateH\u001b[0m\u001b[1;33m(\u001b[0m\u001b[0mV\u001b[0m\u001b[1;33m,\u001b[0m\u001b[0mW\u001b[0m\u001b[1;33m,\u001b[0m\u001b[0mH\u001b[0m\u001b[1;33m)\u001b[0m\u001b[1;33m\u001b[0m\u001b[0m\n\u001b[0m\u001b[0;32m     45\u001b[0m         \u001b[0mW\u001b[0m\u001b[1;33m=\u001b[0m\u001b[0mCSE391_updateW\u001b[0m\u001b[1;33m(\u001b[0m\u001b[0mV\u001b[0m\u001b[1;33m,\u001b[0m\u001b[0mW\u001b[0m\u001b[1;33m,\u001b[0m\u001b[0mH\u001b[0m\u001b[1;33m)\u001b[0m\u001b[1;33m\u001b[0m\u001b[0m\n\u001b[0;32m     46\u001b[0m     \u001b[1;32mreturn\u001b[0m \u001b[0mW\u001b[0m\u001b[1;33m,\u001b[0m \u001b[0mH\u001b[0m\u001b[1;33m\u001b[0m\u001b[0m\n",
      "\u001b[1;32m<ipython-input-13-3505268ec655>\u001b[0m in \u001b[0;36mCSE391_updateH\u001b[1;34m(V, W, H)\u001b[0m\n\u001b[0;32m      6\u001b[0m     \u001b[1;31m#Update rule for $H_{ij}$\u001b[0m\u001b[1;33m\u001b[0m\u001b[1;33m\u001b[0m\u001b[0m\n\u001b[0;32m      7\u001b[0m     \u001b[1;31m# fill in here\u001b[0m\u001b[1;33m\u001b[0m\u001b[1;33m\u001b[0m\u001b[0m\n\u001b[1;32m----> 8\u001b[1;33m     \u001b[0mH_new\u001b[0m\u001b[1;33m=\u001b[0m \u001b[1;33m(\u001b[0m\u001b[0mW\u001b[0m\u001b[1;33m.\u001b[0m\u001b[0mT\u001b[0m\u001b[1;33m.\u001b[0m\u001b[0mdot\u001b[0m\u001b[1;33m(\u001b[0m\u001b[0mV\u001b[0m\u001b[1;33m)\u001b[0m\u001b[1;33m)\u001b[0m\u001b[1;33m/\u001b[0m\u001b[1;33m(\u001b[0m\u001b[0mW\u001b[0m\u001b[1;33m.\u001b[0m\u001b[0mT\u001b[0m\u001b[1;33m.\u001b[0m\u001b[0mdot\u001b[0m\u001b[1;33m(\u001b[0m\u001b[0mW\u001b[0m\u001b[1;33m)\u001b[0m\u001b[1;33m.\u001b[0m\u001b[0mdot\u001b[0m\u001b[1;33m(\u001b[0m\u001b[0mH\u001b[0m\u001b[1;33m)\u001b[0m\u001b[1;33m)\u001b[0m\u001b[1;33m\u001b[0m\u001b[0m\n\u001b[0m\u001b[0;32m      9\u001b[0m     \u001b[1;32mreturn\u001b[0m \u001b[0mH_new\u001b[0m\u001b[1;33m\u001b[0m\u001b[0m\n\u001b[0;32m     10\u001b[0m \u001b[1;33m\u001b[0m\u001b[0m\n",
      "\u001b[1;31mValueError\u001b[0m: shapes (5,10) and (20,10) not aligned: 10 (dim 1) != 20 (dim 0)"
     ]
    }
   ],
   "source": [
    "V = np.arange(0,200).reshape(20,10)\n",
    "CSE391_DecomposeFunction(V,5)"
   ]
  },
  {
   "cell_type": "code",
   "execution_count": null,
   "metadata": {
    "collapsed": true
   },
   "outputs": [],
   "source": []
  }
 ],
 "metadata": {
  "kernelspec": {
   "display_name": "Python 3",
   "language": "python",
   "name": "python3"
  },
  "language_info": {
   "codemirror_mode": {
    "name": "ipython",
    "version": 3
   },
   "file_extension": ".py",
   "mimetype": "text/x-python",
   "name": "python",
   "nbconvert_exporter": "python",
   "pygments_lexer": "ipython3",
   "version": "3.6.3"
  }
 },
 "nbformat": 4,
 "nbformat_minor": 2
}
