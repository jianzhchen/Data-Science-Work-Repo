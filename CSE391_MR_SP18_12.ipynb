{
 "cells": [
  {
   "cell_type": "markdown",
   "metadata": {},
   "source": [
    "<h1><center>CSE391 programming for data science</center></h1>\n",
    "\n",
    "<h1><center>Lecture 12</center></h1>\n",
    "<h1><center>Feb 28th ,2018 </center></h1>\n",
    "\n"
   ]
  },
  {
   "cell_type": "markdown",
   "metadata": {},
   "source": [
    "# Information is the oil of the 21st century, and analytics is the combustion engine.\n",
    "- ~ Peter Sondergaard, SVP, Gartner Research – "
   ]
  },
  {
   "cell_type": "markdown",
   "metadata": {},
   "source": [
    "# Jupyter notebook Tips of the day"
   ]
  },
  {
   "cell_type": "markdown",
   "metadata": {},
   "source": [
    "# Colors: \n",
    "\n",
    "-Use this code: <font color=red>Text</font> Not all markdown code works within a font tag, so review your colored text carefully!"
   ]
  },
  {
   "cell_type": "markdown",
   "metadata": {},
   "source": [
    "# Indenting: \n",
    "-Use a greater than sign (>) and then a space, then type the text. Everything is indented until the next carriage return.\n",
    "> here\n"
   ]
  },
  {
   "cell_type": "markdown",
   "metadata": {},
   "source": [
    "#  Dealing with missing values"
   ]
  },
  {
   "cell_type": "markdown",
   "metadata": {},
   "source": [
    "# Two type of missing data\n",
    "- missing completly at random\n",
    "- mising not at random"
   ]
  },
  {
   "cell_type": "markdown",
   "metadata": {},
   "source": [
    "# How to deal with missing data\n",
    "- drop out \n",
    "- imputation \n",
    "     - expert gussing\n",
    "     - averaging \n",
    "     - regression\n",
    "     - Expectation maximization\n"
   ]
  },
  {
   "cell_type": "markdown",
   "metadata": {},
   "source": [
    "# 1.1 Drop the missing values."
   ]
  },
  {
   "cell_type": "code",
   "execution_count": null,
   "metadata": {
    "collapsed": true
   },
   "outputs": [],
   "source": [
    "passengers.dropna(axis=0, how='any', thresh=None, subset=None, inplace=False)\n",
    "\n"
   ]
  },
  {
   "cell_type": "markdown",
   "metadata": {},
   "source": [
    "- This will drop any rows with missing values. Clearly this isn't a good idea\n",
    "- What instead if we wanted to remove any columns with missing values? How?"
   ]
  },
  {
   "cell_type": "code",
   "execution_count": null,
   "metadata": {
    "collapsed": true
   },
   "outputs": [],
   "source": [
    "passengers.dropna(axis = 1).head(5)"
   ]
  },
  {
   "cell_type": "code",
   "execution_count": null,
   "metadata": {
    "collapsed": true
   },
   "outputs": [],
   "source": [
    "# Keep only the rows with at least 11 non-na values:\n",
    "passengers.dropna(thresh = 11)"
   ]
  },
  {
   "cell_type": "markdown",
   "metadata": {},
   "source": [
    "# 1.2 imputation ( a way to replace the missing values) \n",
    "- Filling the missing values\n",
    "    -  mean\n",
    "    - your suggestion?"
   ]
  },
  {
   "cell_type": "code",
   "execution_count": null,
   "metadata": {
    "collapsed": true
   },
   "outputs": [],
   "source": [
    " passengers[\"Age\"].fillna(value=passengers[\"Age\"].mean()).head()"
   ]
  },
  {
   "cell_type": "markdown",
   "metadata": {},
   "source": [
    "# The apply function in Pandas\n",
    "-This is one of the most powerful tools available in Pandas. Apply, allows you to either use Python's built-in functions or to create your own custom function and then run it across a set of your data."
   ]
  },
  {
   "cell_type": "markdown",
   "metadata": {},
   "source": [
    "## let's define a function to map each embarked city to a letter"
   ]
  },
  {
   "cell_type": "code",
   "execution_count": null,
   "metadata": {
    "collapsed": true
   },
   "outputs": [],
   "source": [
    "def get_full_city_name(cityCode):\n",
    "    if (cityCode == \"S\"):\n",
    "        return \"Southampton\"\n",
    "    elif (cityCode == \"C\"):\n",
    "        return \"Cherbourg\"\n",
    "    elif (cityCode == \"Q\"):\n",
    "        return \"Queenstown\""
   ]
  },
  {
   "cell_type": "code",
   "execution_count": null,
   "metadata": {
    "collapsed": true
   },
   "outputs": [],
   "source": [
    "passengers[\"Embarked\"].apply(get_full_city_name).head(10)"
   ]
  },
  {
   "cell_type": "markdown",
   "metadata": {},
   "source": [
    "# Using Lambda function\n",
    "Lambda expressions allow you to create functions on the fly. This means you can create a function when you need it and then apply that to the relevant data set."
   ]
  },
  {
   "cell_type": "code",
   "execution_count": null,
   "metadata": {
    "collapsed": true
   },
   "outputs": [],
   "source": [
    "# Updating the fares for all the passengers\n",
    "passengers[\"Fare\"].apply(lambda fare: 106 * fare).head(5)"
   ]
  },
  {
   "cell_type": "markdown",
   "metadata": {},
   "source": [
    "# Boolian Indexing in Pandas\n",
    "- selecting across multiple columns with python pandas\n"
   ]
  },
  {
   "cell_type": "code",
   "execution_count": null,
   "metadata": {
    "collapsed": true
   },
   "outputs": [],
   "source": [
    "# creat a data frame\n",
    "\n",
    "d = pd.DataFrame({'x':[1, 2, 3, 4, 5], 'y':[4, 5, 6, 7, 8]})\n",
    "d"
   ]
  },
  {
   "cell_type": "code",
   "execution_count": null,
   "metadata": {
    "collapsed": true
   },
   "outputs": [],
   "source": [
    "d[(d['x']>2) & (d['y']>7)]"
   ]
  },
  {
   "cell_type": "markdown",
   "metadata": {},
   "source": [
    "- List comprehensions and map method of DataFrames can also be used to produce more complex column selection criteria:"
   ]
  },
  {
   "cell_type": "code",
   "execution_count": 7,
   "metadata": {},
   "outputs": [
    {
     "data": {
      "text/html": [
       "<div>\n",
       "<style>\n",
       "    .dataframe thead tr:only-child th {\n",
       "        text-align: right;\n",
       "    }\n",
       "\n",
       "    .dataframe thead th {\n",
       "        text-align: left;\n",
       "    }\n",
       "\n",
       "    .dataframe tbody tr th {\n",
       "        vertical-align: top;\n",
       "    }\n",
       "</style>\n",
       "<table border=\"1\" class=\"dataframe\">\n",
       "  <thead>\n",
       "    <tr style=\"text-align: right;\">\n",
       "      <th></th>\n",
       "      <th>a</th>\n",
       "      <th>b</th>\n",
       "      <th>c</th>\n",
       "    </tr>\n",
       "  </thead>\n",
       "  <tbody>\n",
       "    <tr>\n",
       "      <th>0</th>\n",
       "      <td>one</td>\n",
       "      <td>x</td>\n",
       "      <td>-0.438498</td>\n",
       "    </tr>\n",
       "    <tr>\n",
       "      <th>1</th>\n",
       "      <td>one</td>\n",
       "      <td>y</td>\n",
       "      <td>1.125559</td>\n",
       "    </tr>\n",
       "    <tr>\n",
       "      <th>2</th>\n",
       "      <td>two</td>\n",
       "      <td>y</td>\n",
       "      <td>0.879268</td>\n",
       "    </tr>\n",
       "    <tr>\n",
       "      <th>3</th>\n",
       "      <td>three</td>\n",
       "      <td>x</td>\n",
       "      <td>-0.184626</td>\n",
       "    </tr>\n",
       "    <tr>\n",
       "      <th>4</th>\n",
       "      <td>two</td>\n",
       "      <td>y</td>\n",
       "      <td>0.913174</td>\n",
       "    </tr>\n",
       "    <tr>\n",
       "      <th>5</th>\n",
       "      <td>one</td>\n",
       "      <td>x</td>\n",
       "      <td>0.336748</td>\n",
       "    </tr>\n",
       "    <tr>\n",
       "      <th>6</th>\n",
       "      <td>six</td>\n",
       "      <td>x</td>\n",
       "      <td>1.778274</td>\n",
       "    </tr>\n",
       "  </tbody>\n",
       "</table>\n",
       "</div>"
      ],
      "text/plain": [
       "       a  b         c\n",
       "0    one  x -0.438498\n",
       "1    one  y  1.125559\n",
       "2    two  y  0.879268\n",
       "3  three  x -0.184626\n",
       "4    two  y  0.913174\n",
       "5    one  x  0.336748\n",
       "6    six  x  1.778274"
      ]
     },
     "execution_count": 7,
     "metadata": {},
     "output_type": "execute_result"
    }
   ],
   "source": [
    "import numpy as np\n",
    "import pandas as pd\n",
    "df2 = pd.DataFrame({'a' : ['one', 'one', 'two', 'three', 'two', 'one', 'six'], 'b' : ['x', 'y', 'y', 'x', 'y', 'x', 'x'],  'c' : np.random.randn(7)})\n",
    "        \n",
    "df2"
   ]
  },
  {
   "cell_type": "code",
   "execution_count": 8,
   "metadata": {},
   "outputs": [
    {
     "name": "stdout",
     "output_type": "stream",
     "text": [
      "0    False\n",
      "1    False\n",
      "2     True\n",
      "3     True\n",
      "4     True\n",
      "5    False\n",
      "6    False\n",
      "Name: a, dtype: bool\n",
      "       a  b         c\n",
      "2    two  y  0.879268\n",
      "3  three  x -0.184626\n",
      "4    two  y  0.913174\n"
     ]
    }
   ],
   "source": [
    "\n",
    "criterion = df2['a'].map(lambda x: x.startswith('t'))\n",
    "print(criterion)\n",
    "\n",
    "print(df2[criterion])"
   ]
  },
  {
   "cell_type": "code",
   "execution_count": 3,
   "metadata": {},
   "outputs": [
    {
     "name": "stdout",
     "output_type": "stream",
     "text": [
      "[[1 2 3]\n",
      " [3 4 5]\n",
      " [4 5 6]]\n",
      "Now we will slice the array from the index a[1:]\n",
      "[[3 4 5]\n",
      " [4 5 6]]\n",
      "\n",
      " Array is:\n",
      "  [ 0  1  2  3  4  5  6  7  8  9 10 11 12 13 14 15 16 17 18 19]\n",
      "\n",
      " a[-8:17:1]  =  [12 13 14 15 16]\n",
      "\n",
      " a[10:]  =  [10 11 12 13 14 15 16 17 18 19]\n",
      "[1 3 6]\n",
      "[ 80 100]\n",
      "[1600 6400]\n"
     ]
    }
   ],
   "source": [
    "# More on array indexing and slicing \n",
    "# based on an arti\\cle from Ayushi Asthana at geeksforgeeks\n",
    "\n",
    "import numpy as np \n",
    "a = np.array([[1,2,3],[3,4,5],[4,5,6]]) \n",
    "print(a ) \n",
    "\n",
    "# slice items starting from index\n",
    "print('Now we will slice the array from the index a[1:]' )\n",
    "print(a[1:])\n",
    "\n",
    "# Python program for basic slicing.\n",
    "import numpy as np\n",
    " \n",
    "# Arrange elements from 0 to 19\n",
    "a = np.arange(20)\n",
    "print(\"\\n Array is:\\n \",a)\n",
    " \n",
    "# a[start:stop:step]\n",
    "print(\"\\n a[-8:17:1]  = \",a[-8:17:1]) \n",
    " \n",
    "# The : operator means all elements till the end.\n",
    "print(\"\\n a[10:]  = \",a[10:])\n",
    "\n",
    "# Advanced indexing\n",
    "\n",
    "#Purely integer indexing\n",
    "# Python program showing advanced indexing\n",
    "import numpy as np\n",
    " \n",
    "a = np.array([[1 ,2 ],[3 ,4 ],[5 ,6 ]])\n",
    "print(a[[0 ,1 ,2 ],[0 ,0 ,1]])\n",
    "\n",
    "#Boolean Indexing \n",
    "# You may wish to select numbers greater than 50\n",
    "import numpy as np\n",
    " \n",
    "a = np.array([10, 40, 80, 50, 100])\n",
    "print(a[a>50])\n",
    "\n",
    "# You may wish to square the multiples of 40 \n",
    "import numpy as np\n",
    " \n",
    "a = np.array([10, 40, 80, 50, 100])\n",
    "print(a[a%40==0]**2)"
   ]
  },
  {
   "cell_type": "code",
   "execution_count": null,
   "metadata": {
    "collapsed": true
   },
   "outputs": [],
   "source": []
  }
 ],
 "metadata": {
  "kernelspec": {
   "display_name": "Python 3",
   "language": "python",
   "name": "python3"
  },
  "language_info": {
   "codemirror_mode": {
    "name": "ipython",
    "version": 3
   },
   "file_extension": ".py",
   "mimetype": "text/x-python",
   "name": "python",
   "nbconvert_exporter": "python",
   "pygments_lexer": "ipython3",
   "version": "3.6.3"
  }
 },
 "nbformat": 4,
 "nbformat_minor": 2
}
